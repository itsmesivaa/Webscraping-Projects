{
 "cells": [
  {
   "cell_type": "code",
   "execution_count": 17,
   "metadata": {},
   "outputs": [],
   "source": [
    "# Importing the StringIO module.\n",
    "from bs4 import BeautifulSoup\n",
    "\n",
    "# import the requests library \n",
    "import requests\n",
    "\n",
    "import pandas as pd\n",
    "\n",
    "#Base Url to fetch historical data through request\n",
    "#List holds various stocks\n",
    "#lst = ['MRF','SBIN','TCS','HCLTECH','ROSSARI','PIDILITIND']\n",
    "\n",
    "\n",
    "#Defining headers with User agent to establish requests\n",
    "headers = {\n",
    "    'User-Agent': 'Mozilla/5.0 (Windows NT 10.0; Win64; x64) AppleWebKit/537.36 (KHTML, like Gecko) Chrome/124.0.0.0 Safari/537.36',\n",
    "'X-Requested-With': 'XMLHttpRequest'\n",
    "}\n",
    "\n",
    "from selenium import webdriver\n",
    "from selenium.webdriver.firefox.options import Options\n",
    "from selenium.webdriver.chrome.options import Options\n",
    "import time\n",
    "from bs4 import BeautifulSoup\n",
    "import csv\n",
    "\n",
    "import pandas as pd\n"
   ]
  },
  {
   "cell_type": "code",
   "execution_count": 27,
   "metadata": {},
   "outputs": [],
   "source": [
    "options = Options()\n",
    "options.add_argument('--headless')\n",
    "\n",
    "options = webdriver.ChromeOptions()\n",
    "driver = webdriver.Chrome(options=options)\n",
    "\n",
    "#driver = webdriver.Firefox(options=options)\n",
    "driver.get(\"https://marketsmithindia.com/mstool/eval/ROSSARI/evaluation.jsp#/\")\n",
    "#time.sleep(2)\n",
    "\n",
    "soup = BeautifulSoup(driver.page_source, 'html.parser')\n"
   ]
  },
  {
   "cell_type": "code",
   "execution_count": null,
   "metadata": {},
   "outputs": [],
   "source": []
  },
  {
   "cell_type": "code",
   "execution_count": 28,
   "metadata": {},
   "outputs": [
    {
     "data": {
      "text/plain": [
       "[<div class=\"details\"> Market Capitalization</div>,\n",
       " <div class=\"details\"> Sales </div>,\n",
       " <div class=\"details\"> Shares in Float </div>,\n",
       " <div class=\"details\"> No of Funds </div>,\n",
       " <div class=\"details\"> Shares held by Funds </div>,\n",
       " <div class=\"details\"> Market Capitalization </div>,\n",
       " <div class=\"details\"> Sales </div>,\n",
       " <div class=\"details\"> Shares in Float </div>,\n",
       " <div class=\"details\"> No of Funds </div>,\n",
       " <div class=\"details\"> Shares held by Funds </div>,\n",
       " <div class=\"details\"> Yield </div>,\n",
       " <div class=\"details\"> Book Value </div>,\n",
       " <div class=\"details\"> U/D Vol Ratio </div>,\n",
       " <div class=\"details\"> LTDebt/Equity </div>,\n",
       " <div class=\"details\"> Alpha </div>,\n",
       " <div class=\"details\"> Beta </div>,\n",
       " <div class=\"details\"> Master Score </div>,\n",
       " <div class=\"details\"> EPS Rating </div>,\n",
       " <div class=\"details\"> Price Strength </div>,\n",
       " <div class=\"details\"> Acc/Dis Rating </div>,\n",
       " <div class=\"details\"> Group Rank </div>,\n",
       " <div class=\"details\"> EPS Growth Rate </div>,\n",
       " <div class=\"details\"> Earnings Stability </div>,\n",
       " <div class=\"details\"> P/E Ratio </div>,\n",
       " <div class=\"details\"> 5-Year P/E Range </div>,\n",
       " <div class=\"details\"> Return on Equity </div>,\n",
       " <div class=\"details\"> Cash Flow (INR) </div>]"
      ]
     },
     "execution_count": 28,
     "metadata": {},
     "output_type": "execute_result"
    }
   ],
   "source": [
    "#Populating summary columns for individual stocks from Marketsmith evaluation pages\n",
    "stock_detail_header = soup.find_all('div', class_ = {\"details\"})\n",
    "stock_detail_header"
   ]
  },
  {
   "cell_type": "code",
   "execution_count": 10,
   "metadata": {},
   "outputs": [
    {
     "data": {
      "text/plain": [
       "[<div class=\"value\" style=\"font-weight: bold;\">INR 4,309.19 Cr</div>,\n",
       " <div class=\"value\" style=\"font-weight: bold;\">INR 1152.75 Cr</div>,\n",
       " <div class=\"value\" style=\"font-weight: bold;\">1.77 Cr</div>,\n",
       " <div class=\"value\" style=\"font-weight: bold;\">69 <span class=\"nooffundspval\">(+2.99 %)</span></div>,\n",
       " <div class=\"value\" style=\"font-weight: bold;\">1.20 Cr <span class=\"nooffundsnval\">(-1.92 %)</span></div>,\n",
       " <div class=\"value\" style=\"font-weight: bold;\">INR 4,309.19 Cr</div>,\n",
       " <div class=\"value\" style=\"font-weight: bold;\">INR 1152.75 Cr</div>,\n",
       " <div class=\"value\" style=\"font-weight: bold;\">1.77 Cr</div>,\n",
       " <div class=\"value\" style=\"font-weight: bold;\">69 <span class=\"nooffundspval\">(+2.99 %)</span></div>,\n",
       " <div class=\"value\" style=\"font-weight: bold;\">1.20 Cr <span class=\"nooffundsnval\">(-1.92 %)</span></div>,\n",
       " <div class=\"value\">0.06%</div>,\n",
       " <div class=\"value\">5.01x</div>,\n",
       " <div class=\"value\">1.2</div>,\n",
       " <div class=\"value\">4%</div>,\n",
       " <div class=\"value\">-0.04</div>,\n",
       " <div class=\"value\">0.83 </div>,\n",
       " <div class=\"value\">57</div>,\n",
       " <div class=\"value\">84</div>,\n",
       " <div class=\"value\">28</div>,\n",
       " <div class=\"value\">B</div>,\n",
       " <div class=\"value\">31 of 197</div>,\n",
       " <div class=\"value\">N/A</div>,\n",
       " <div class=\"value\">61</div>,\n",
       " <div class=\"value\">\n",
       "                                     45</div>,\n",
       " <div class=\"value\">\n",
       "                                     47-\n",
       "                                     104</div>,\n",
       " <div class=\"value\">\n",
       "                                     8%</div>,\n",
       " <div class=\"value\">\n",
       "                                     20.61</div>]"
      ]
     },
     "execution_count": 10,
     "metadata": {},
     "output_type": "execute_result"
    }
   ],
   "source": [
    "#Populating stock summary values for respective for individual stocks from Marketsmith evaluation pages\n",
    "\n",
    "stock_detail_value = soup.find_all('div', class_ = {\"value\"})\n",
    "stock_detail_value\n"
   ]
  },
  {
   "cell_type": "code",
   "execution_count": 29,
   "metadata": {},
   "outputs": [
    {
     "data": {
      "text/plain": [
       "['Market Capitalization',\n",
       " 'Sales',\n",
       " 'Shares in Float',\n",
       " 'No of Funds',\n",
       " 'Shares held by Funds',\n",
       " 'Market Capitalization',\n",
       " 'Sales',\n",
       " 'Shares in Float',\n",
       " 'No of Funds',\n",
       " 'Shares held by Funds',\n",
       " 'Yield',\n",
       " 'Book Value',\n",
       " 'U/D Vol Ratio',\n",
       " 'LTDebt/Equity',\n",
       " 'Alpha',\n",
       " 'Beta',\n",
       " 'Master Score',\n",
       " 'EPS Rating',\n",
       " 'Price Strength',\n",
       " 'Acc/Dis Rating',\n",
       " 'Group Rank',\n",
       " 'EPS Growth Rate',\n",
       " 'Earnings Stability',\n",
       " 'P/E Ratio',\n",
       " '5-Year P/E Range',\n",
       " 'Return on Equity',\n",
       " 'Cash Flow (INR)']"
      ]
     },
     "execution_count": 29,
     "metadata": {},
     "output_type": "execute_result"
    }
   ],
   "source": [
    "cols = []\n",
    "\n",
    "#Generating columns through iteration\n",
    "for x in range(0,len(stock_detail_header)):\n",
    "    cols.append(stock_detail_header[x].get_text().strip())\n",
    "    \n",
    "cols"
   ]
  },
  {
   "cell_type": "code",
   "execution_count": 30,
   "metadata": {},
   "outputs": [
    {
     "name": "stdout",
     "output_type": "stream",
     "text": [
      "INR 4,309.19 Cr\n",
      "INR 1152.75 Cr\n",
      "1.77 Cr\n",
      "69 (+2.99 %)\n",
      "1.20 Cr (-1.92 %)\n",
      "INR 4,309.19 Cr\n",
      "INR 1152.75 Cr\n",
      "1.77 Cr\n",
      "69 (+2.99 %)\n",
      "1.20 Cr (-1.92 %)\n",
      "0.06%\n",
      "5.01x\n",
      "1.2\n",
      "4%\n",
      "-0.04\n",
      "0.83\n",
      "57\n",
      "84\n",
      "28\n",
      "B\n",
      "31 of 197\n",
      "N/A\n",
      "61\n",
      "45\n",
      "47-\n",
      "                                    104\n",
      "8%\n",
      "20.61\n"
     ]
    }
   ],
   "source": [
    "#Feeding an empty Dataframe with its respective column values through iterating summary_data list\n",
    "#Creating an empty Dataframe to feed the column names through iterating summary_cols list\n",
    "\n",
    "summary_data_values = []\n",
    "\n",
    "#Generating columns through iteration\n",
    "for x in range(0,len(stock_detail_value)):\n",
    "    print(stock_detail_value[x].get_text().strip())\n",
    "    summary_data_values.append(stock_detail_value[x].get_text().strip())"
   ]
  },
  {
   "cell_type": "code",
   "execution_count": 31,
   "metadata": {},
   "outputs": [],
   "source": [
    "#Creating an empty Dataframe to feeding the Stock summary column names and values together from Marketsmith website\n",
    "share_summary = pd.DataFrame(columns= cols,data = [summary_data_values])\n",
    "\n"
   ]
  },
  {
   "cell_type": "code",
   "execution_count": 32,
   "metadata": {},
   "outputs": [
    {
     "data": {
      "text/html": [
       "<div>\n",
       "<style scoped>\n",
       "    .dataframe tbody tr th:only-of-type {\n",
       "        vertical-align: middle;\n",
       "    }\n",
       "\n",
       "    .dataframe tbody tr th {\n",
       "        vertical-align: top;\n",
       "    }\n",
       "\n",
       "    .dataframe thead th {\n",
       "        text-align: right;\n",
       "    }\n",
       "</style>\n",
       "<table border=\"1\" class=\"dataframe\">\n",
       "  <thead>\n",
       "    <tr style=\"text-align: right;\">\n",
       "      <th></th>\n",
       "      <th>Market Capitalization</th>\n",
       "      <th>Sales</th>\n",
       "      <th>Shares in Float</th>\n",
       "      <th>No of Funds</th>\n",
       "      <th>Shares held by Funds</th>\n",
       "      <th>Market Capitalization</th>\n",
       "      <th>Sales</th>\n",
       "      <th>Shares in Float</th>\n",
       "      <th>No of Funds</th>\n",
       "      <th>Shares held by Funds</th>\n",
       "      <th>...</th>\n",
       "      <th>EPS Rating</th>\n",
       "      <th>Price Strength</th>\n",
       "      <th>Acc/Dis Rating</th>\n",
       "      <th>Group Rank</th>\n",
       "      <th>EPS Growth Rate</th>\n",
       "      <th>Earnings Stability</th>\n",
       "      <th>P/E Ratio</th>\n",
       "      <th>5-Year P/E Range</th>\n",
       "      <th>Return on Equity</th>\n",
       "      <th>Cash Flow (INR)</th>\n",
       "    </tr>\n",
       "  </thead>\n",
       "  <tbody>\n",
       "    <tr>\n",
       "      <th>0</th>\n",
       "      <td>INR 4,309.19 Cr</td>\n",
       "      <td>INR 1152.75 Cr</td>\n",
       "      <td>1.77 Cr</td>\n",
       "      <td>69 (+2.99 %)</td>\n",
       "      <td>1.20 Cr (-1.92 %)</td>\n",
       "      <td>INR 4,309.19 Cr</td>\n",
       "      <td>INR 1152.75 Cr</td>\n",
       "      <td>1.77 Cr</td>\n",
       "      <td>69 (+2.99 %)</td>\n",
       "      <td>1.20 Cr (-1.92 %)</td>\n",
       "      <td>...</td>\n",
       "      <td>84</td>\n",
       "      <td>28</td>\n",
       "      <td>B</td>\n",
       "      <td>31 of 197</td>\n",
       "      <td>N/A</td>\n",
       "      <td>61</td>\n",
       "      <td>45</td>\n",
       "      <td>47-\\n                                    104</td>\n",
       "      <td>8%</td>\n",
       "      <td>20.61</td>\n",
       "    </tr>\n",
       "  </tbody>\n",
       "</table>\n",
       "<p>1 rows × 27 columns</p>\n",
       "</div>"
      ],
      "text/plain": [
       "  Market Capitalization           Sales Shares in Float   No of Funds  \\\n",
       "0       INR 4,309.19 Cr  INR 1152.75 Cr         1.77 Cr  69 (+2.99 %)   \n",
       "\n",
       "  Shares held by Funds Market Capitalization           Sales Shares in Float  \\\n",
       "0    1.20 Cr (-1.92 %)       INR 4,309.19 Cr  INR 1152.75 Cr         1.77 Cr   \n",
       "\n",
       "    No of Funds Shares held by Funds  ... EPS Rating Price Strength  \\\n",
       "0  69 (+2.99 %)    1.20 Cr (-1.92 %)  ...         84             28   \n",
       "\n",
       "  Acc/Dis Rating Group Rank EPS Growth Rate Earnings Stability P/E Ratio  \\\n",
       "0              B  31 of 197             N/A                 61        45   \n",
       "\n",
       "                               5-Year P/E Range Return on Equity  \\\n",
       "0  47-\\n                                    104               8%   \n",
       "\n",
       "  Cash Flow (INR)  \n",
       "0           20.61  \n",
       "\n",
       "[1 rows x 27 columns]"
      ]
     },
     "execution_count": 32,
     "metadata": {},
     "output_type": "execute_result"
    }
   ],
   "source": [
    "share_summary"
   ]
  },
  {
   "cell_type": "code",
   "execution_count": 25,
   "metadata": {},
   "outputs": [],
   "source": [
    "del[share_summary]"
   ]
  },
  {
   "cell_type": "code",
   "execution_count": null,
   "metadata": {},
   "outputs": [],
   "source": []
  },
  {
   "cell_type": "code",
   "execution_count": null,
   "metadata": {},
   "outputs": [],
   "source": []
  }
 ],
 "metadata": {
  "kernelspec": {
   "display_name": "base",
   "language": "python",
   "name": "python3"
  },
  "language_info": {
   "codemirror_mode": {
    "name": "ipython",
    "version": 3
   },
   "file_extension": ".py",
   "mimetype": "text/x-python",
   "name": "python",
   "nbconvert_exporter": "python",
   "pygments_lexer": "ipython3",
   "version": "3.11.5"
  }
 },
 "nbformat": 4,
 "nbformat_minor": 2
}
